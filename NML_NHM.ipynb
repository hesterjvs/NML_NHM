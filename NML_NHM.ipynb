{
  "nbformat": 4,
  "nbformat_minor": 0,
  "metadata": {
    "colab": {
      "provenance": [],
      "authorship_tag": "ABX9TyPeZhFfcwy4ysa4uNbiRw4Y",
      "include_colab_link": true
    },
    "kernelspec": {
      "name": "python3",
      "display_name": "Python 3"
    },
    "language_info": {
      "name": "python"
    }
  },
  "cells": [
    {
      "cell_type": "markdown",
      "metadata": {
        "id": "view-in-github",
        "colab_type": "text"
      },
      "source": [
        "<a href=\"https://colab.research.google.com/github/hesterjvs/NML_NHM/blob/main/NML_NHM.ipynb\" target=\"_parent\"><img src=\"https://colab.research.google.com/assets/colab-badge.svg\" alt=\"Open In Colab\"/></a>"
      ]
    },
    {
      "cell_type": "code",
      "execution_count": 2,
      "metadata": {
        "colab": {
          "base_uri": "https://localhost:8080/"
        },
        "id": "rqJaORUFbyG1",
        "outputId": "909e0e1d-fca5-495c-ff0c-dec0eba60c90"
      },
      "outputs": [
        {
          "output_type": "stream",
          "name": "stdout",
          "text": [
            "                                               Title  \\\n",
            "0                                   Cosmetic Palette   \n",
            "1                               Wall Relief Fragment   \n",
            "2                        Temple Wall Relief Fragment   \n",
            "3                                                Jar   \n",
            "4                                           Antinous   \n",
            "5  Commemorative Medal - HM Queen Elizabeth II Si...   \n",
            "6                               Nicotiana suaveolens   \n",
            "7                                     Minton Peacock   \n",
            "8                                     Decorated Bowl   \n",
            "9                                       Bottle Flask   \n",
            "\n",
            "                              Category/discipline  \\\n",
            "0                           Antiquities: Egyptian   \n",
            "1                           Antiquities: Egyptian   \n",
            "2                           Antiquities: Egyptian   \n",
            "3                           Antiquities: Egyptian   \n",
            "4             Antiquities: Lady Lever Art Gallery   \n",
            "5                        Antiquities: Numismatics   \n",
            "6                Botany: Extra-European herbarium   \n",
            "7                        Decorative Art: Ceramics   \n",
            "8  Decorative Art: Ceramics - British Earthenware   \n",
            "9  Decorative Art: Ceramics - British Earthenware   \n",
            "\n",
            "                                         Description  \\\n",
            "0  Greywacke stone palette carved in an eliptical...   \n",
            "1  Fragment of a limestone wall with a vertical c...   \n",
            "2  Limestone fragment of raised relief representi...   \n",
            "3  Baslat (or greywacke) jar of ovoid form with f...   \n",
            "4  Heroic size marble statue of Antinous, a youth...   \n",
            "5  HM Queen Elizabeth II Silver Jubilee, 1977    ...   \n",
            "6                                 Herbarium specimen   \n",
            "7  A life-size model of a peacock. Naturistically...   \n",
            "8  Hand painted earthenware bowl decorated with a...   \n",
            "9  Eathenware flask of possible Lesotho influence...   \n",
            "\n",
            "                                          Image link  \n",
            "0  https://www.liverpoolmuseums.org.uk/artifact/c...  \n",
            "1  https://www.liverpoolmuseums.org.uk/artifact/w...  \n",
            "2  https://www.liverpoolmuseums.org.uk/artifact/t...  \n",
            "3  https://www.liverpoolmuseums.org.uk/artifact/j...  \n",
            "4  https://www.liverpoolmuseums.org.uk/artifact/a...  \n",
            "5  https://www.liverpoolmuseums.org.uk/artifact/c...  \n",
            "6  https://www.liverpoolmuseums.org.uk/artifact/n...  \n",
            "7  https://www.liverpoolmuseums.org.uk/artifact/m...  \n",
            "8  https://www.liverpoolmuseums.org.uk/artifact/d...  \n",
            "9  https://www.liverpoolmuseums.org.uk/artifact/b...  \n"
          ]
        }
      ],
      "source": [
        "import numpy as np\n",
        "import pandas as pd\n",
        "import matplotlib.pyplot as plt\n",
        "\n",
        "\n",
        "# Import data\n",
        "df = pd.read_excel('NML_Sample.xlsx', engine='openpyxl')\n",
        "\n",
        "# Display the first 10 rows of the DataFrame\n",
        "print(df.head(10))"
      ]
    }
  ]
}